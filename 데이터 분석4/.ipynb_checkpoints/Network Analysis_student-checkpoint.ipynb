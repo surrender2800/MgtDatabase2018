{
 "cells": [
  {
   "cell_type": "markdown",
   "metadata": {},
   "source": [
    "# 소셜 네트워크 분석"
   ]
  },
  {
   "cell_type": "markdown",
   "metadata": {},
   "source": [
    "## 1. 비즈니스 이해\n",
    "\n",
    "### Background: 어떠한 문제가 존재하는지 상황에 대해 알려진 기사, 논문, 보고서 등을 인용하여 현상을 구체적으로 기술하시기 바랍니다.\n",
    "- [[열려라 공부] 새 친구 '탐색 시기' 학교폭력도 늘어요](http://news.joins.com/article/21292322)\n",
    "- [\"학생 네트워크 중요해\"](http://news.joins.com/article/21292322)\n",
    "- 새 학년이 시작되는 3월엔 새로 만난 학생 사이의 갈등도 생기기 마련이다. 송형호 서울 천호중 교사(전 서울시교육청학교폭력담당 파견교사)는 이를 두고 ‘3주의 징크스’라고 불렀다. 개학 직후 1~2주를 지나 3주차가 되면 크고 작은 학교폭력이 시작된다는 설명이다.\n",
    "\n",
    "### Business Objectives: 기업(혹은 본인)에게 이 현상이 어떠한 이유로 분석을 해야 하는지 추상적(함축적)으로 기술하시기 바랍니다.\n",
    "- 교우관계 진단을 통해 “따돌림 위기군”을 사전에 파악하고, 학교 내 청소년 교우관계 문제를 해소하는데 도움이 되고자 함.\n",
    "\n",
    "### Business Success Criteria: 비즈니스 관점에서 분석결과의 성공기준(정량적) 또는 유용한 결과에 대한 기준(정성적)을 설명하십시오.\n",
    "- 교사 입장에서 교우관계 진단을 통해, 집중적으로 관리해야할 학생군을 파악하고, 학기 초와 비교하여 학기 말에 1명(왕따) 혹은 2명의 학생 네트워크 수를 줄인다.\n",
    "\n",
    "### Analysis Goals: 비즈니스 목표에 대한 의사결정 지원을 위해 실시하는 분석의 목표를 기술합니다. \n",
    "- 학생 네트워크 수의 변화 양상 분석, 소수 학생(1명 혹은 2명간) 네트워크 파악\n",
    "- ![외톨이 유형](외톨이.jpg)\n",
    "- 참조문헌(http://cyram.tistory.com/213)"
   ]
  },
  {
   "cell_type": "markdown",
   "metadata": {},
   "source": [
    "## 2. 데이터의 이해\n",
    "- 학기초 학생에 대한 설문조사를 실시하여 데이터를 수집함.\n",
    "- [구글 설문조사 활용](https://goo.gl/forms/QSPhpQmOpWwxT1gS2)\n",
    "    - 구글 설문: 학기 초 1회 실시(47명)\n",
    "    - 구글 설문: 학기 중간 1회 실시(47명)\n",
    "- 데이터 전처리 : 2개 entity를 결합 / 집계\n"
   ]
  },
  {
   "cell_type": "markdown",
   "metadata": {},
   "source": [
    "## 3. 데이터 준비"
   ]
  },
  {
   "cell_type": "code",
   "execution_count": 2,
   "metadata": {},
   "outputs": [],
   "source": [
    "# 네트워크 분석을 지원하는 networkx, pydot 모듈을 설치해야 함.\n",
    "# conda install -c anaconda networkx\n",
    "# pip install pydot\n",
    "import pandas as pd\n",
    "import matplotlib.pyplot as plt\n",
    "import networkx as nx\n",
    "# import pydot\n",
    "%matplotlib inline\n",
    "\n",
    "# 폰트 문제 해결하기\n",
    "import platform\n",
    "\n",
    "path = \"c:/Windows/Fonts/malgun.ttf\"\n",
    "from matplotlib import font_manager, rc\n",
    "if platform.system() == 'Darwin':\n",
    "    rc('font', family='AppleGothic')\n",
    "elif platform.system() == 'Windows':\n",
    "    font_name = font_manager.FontProperties(fname=path).get_name()\n",
    "    rc('font', family=font_name)\n",
    "else:\n",
    "    print('Unknown system... sorry~~~~') "
   ]
  },
  {
   "cell_type": "markdown",
   "metadata": {},
   "source": [
    "#### 네트워크 그래프 클래스\n",
    "- Graph: 이 클래스는 무방향 그래프를 구현합니다. 두 노드 사이의 여러 엣지를 무시합니다. 노드와 노드 사이에 자체 루프 에지를 허용합니다.\n",
    "- DiGraph: 방향성 그래프, 즉 방향성 엣지를 가진 그래프. 유향 그래프(Graph의 서브 클래스)에 공통의 조작을 제공합니다.\n",
    "- MultiGraph: 노드 쌍 사이에 여러 무방향 에지를 허용하는 유연한 그래프 클래스입니다. 추가 유연성은 일반적으로 중요하지 않지만 성능 저하를 가져옵니다.\n",
    "- MultiDiGraph: MultiGraph의 방향성 버전."
   ]
  },
  {
   "cell_type": "code",
   "execution_count": 3,
   "metadata": {},
   "outputs": [],
   "source": [
    "# 그래프 유형 선언\n",
    "G1 = nx.Graph()\n",
    "G2 = nx.DiGraph()\n",
    "G3 = nx.MultiGraph()\n",
    "G4 = nx.MultiDiGraph()"
   ]
  },
  {
   "cell_type": "code",
   "execution_count": 4,
   "metadata": {},
   "outputs": [
    {
     "data": {
      "text/plain": [
       "['A', 'B', 'D']"
      ]
     },
     "execution_count": 4,
     "metadata": {},
     "output_type": "execute_result"
    }
   ],
   "source": [
    "G = nx.Graph()\n",
    "G.add_edge('A', 'B')\n",
    "G.add_edge('B', 'D')\n",
    "G.add_edge('A', 'C')\n",
    "G.add_edge('C', 'D')\n",
    "nx.shortest_path(G, 'A', 'D', weight='weight')"
   ]
  },
  {
   "cell_type": "markdown",
   "metadata": {},
   "source": [
    "### 데이터 임포트\n",
    "- 데이터 내 값: NaN은 하나의 열 단위로 존재하는데, 이는 해당 열의 인원이 출석하지 않음을 의미함. -> 제거\n",
    "- 데이터 내 값: - 은 본인이 본인을 평가할 수 없기 때문에 입력된 것\n",
    "- 데이터 내 값: 1 은 관계가 있음을 의미\n",
    "- 데이터 내 값: 0 은 관계가 없음을 의미"
   ]
  },
  {
   "cell_type": "code",
   "execution_count": 6,
   "metadata": {},
   "outputs": [
    {
     "data": {
      "text/html": [
       "<div>\n",
       "<style scoped>\n",
       "    .dataframe tbody tr th:only-of-type {\n",
       "        vertical-align: middle;\n",
       "    }\n",
       "\n",
       "    .dataframe tbody tr th {\n",
       "        vertical-align: top;\n",
       "    }\n",
       "\n",
       "    .dataframe thead th {\n",
       "        text-align: right;\n",
       "    }\n",
       "</style>\n",
       "<table border=\"1\" class=\"dataframe\">\n",
       "  <thead>\n",
       "    <tr style=\"text-align: right;\">\n",
       "      <th></th>\n",
       "      <th>1. 경영학부 09학번 김진용</th>\n",
       "      <th>2. 경영학부 11학번 임철현</th>\n",
       "      <th>3. 경영학부 12학번 강예지</th>\n",
       "      <th>4. 경영학부 12학번 배성원</th>\n",
       "      <th>5. 경영학부 12학번 윤태성</th>\n",
       "      <th>6. 경영학부 12학번 최용환</th>\n",
       "      <th>7. 경영학부 12학번 김대엽</th>\n",
       "      <th>8. 경영학부 12학번 이호선</th>\n",
       "      <th>9. 경영학부 13학번 고성규</th>\n",
       "      <th>10. 경영학부 13학번 권오승</th>\n",
       "      <th>...</th>\n",
       "      <th>38. 경영학부 17학번 김엘레나</th>\n",
       "      <th>39. 경제학부 13학번 이충현</th>\n",
       "      <th>40. 경제학부 16학번 이예은</th>\n",
       "      <th>41. 산업경영공학과 14학번 이주영</th>\n",
       "      <th>42. 영미언어문화학과 12학번 강승훈</th>\n",
       "      <th>43. 영미언어문화학과 12학번 허동숙</th>\n",
       "      <th>44. 영미언어문화학과 14학번 추화정</th>\n",
       "      <th>45. 신문방송학과 13학번 장선호</th>\n",
       "      <th>46. 신문방송학과 14학번 김서현</th>\n",
       "      <th>47. 정보사회학과 13학번 박상준</th>\n",
       "    </tr>\n",
       "  </thead>\n",
       "  <tbody>\n",
       "    <tr>\n",
       "      <th>강승훈</th>\n",
       "      <td>0</td>\n",
       "      <td>0</td>\n",
       "      <td>0</td>\n",
       "      <td>0</td>\n",
       "      <td>0</td>\n",
       "      <td>0</td>\n",
       "      <td>0</td>\n",
       "      <td>0</td>\n",
       "      <td>0</td>\n",
       "      <td>0</td>\n",
       "      <td>...</td>\n",
       "      <td>0</td>\n",
       "      <td>0</td>\n",
       "      <td>0</td>\n",
       "      <td>0</td>\n",
       "      <td>0</td>\n",
       "      <td>1</td>\n",
       "      <td>0</td>\n",
       "      <td>0</td>\n",
       "      <td>0</td>\n",
       "      <td>0</td>\n",
       "    </tr>\n",
       "    <tr>\n",
       "      <th>황은택</th>\n",
       "      <td>0</td>\n",
       "      <td>0</td>\n",
       "      <td>0</td>\n",
       "      <td>0</td>\n",
       "      <td>0</td>\n",
       "      <td>0</td>\n",
       "      <td>0</td>\n",
       "      <td>0</td>\n",
       "      <td>0</td>\n",
       "      <td>0</td>\n",
       "      <td>...</td>\n",
       "      <td>0</td>\n",
       "      <td>0</td>\n",
       "      <td>0</td>\n",
       "      <td>0</td>\n",
       "      <td>1</td>\n",
       "      <td>1</td>\n",
       "      <td>0</td>\n",
       "      <td>0</td>\n",
       "      <td>0</td>\n",
       "      <td>0</td>\n",
       "    </tr>\n",
       "    <tr>\n",
       "      <th>허동숙</th>\n",
       "      <td>0</td>\n",
       "      <td>0</td>\n",
       "      <td>0</td>\n",
       "      <td>0</td>\n",
       "      <td>0</td>\n",
       "      <td>0</td>\n",
       "      <td>0</td>\n",
       "      <td>0</td>\n",
       "      <td>0</td>\n",
       "      <td>0</td>\n",
       "      <td>...</td>\n",
       "      <td>0</td>\n",
       "      <td>0</td>\n",
       "      <td>0</td>\n",
       "      <td>0</td>\n",
       "      <td>1</td>\n",
       "      <td>0</td>\n",
       "      <td>0</td>\n",
       "      <td>0</td>\n",
       "      <td>0</td>\n",
       "      <td>0</td>\n",
       "    </tr>\n",
       "    <tr>\n",
       "      <th>배성원</th>\n",
       "      <td>0</td>\n",
       "      <td>0</td>\n",
       "      <td>0</td>\n",
       "      <td>0</td>\n",
       "      <td>1</td>\n",
       "      <td>1</td>\n",
       "      <td>0</td>\n",
       "      <td>1</td>\n",
       "      <td>0</td>\n",
       "      <td>0</td>\n",
       "      <td>...</td>\n",
       "      <td>0</td>\n",
       "      <td>0</td>\n",
       "      <td>0</td>\n",
       "      <td>0</td>\n",
       "      <td>0</td>\n",
       "      <td>0</td>\n",
       "      <td>0</td>\n",
       "      <td>0</td>\n",
       "      <td>0</td>\n",
       "      <td>0</td>\n",
       "    </tr>\n",
       "    <tr>\n",
       "      <th>이종석</th>\n",
       "      <td>0</td>\n",
       "      <td>0</td>\n",
       "      <td>0</td>\n",
       "      <td>0</td>\n",
       "      <td>0</td>\n",
       "      <td>0</td>\n",
       "      <td>0</td>\n",
       "      <td>0</td>\n",
       "      <td>0</td>\n",
       "      <td>1</td>\n",
       "      <td>...</td>\n",
       "      <td>0</td>\n",
       "      <td>0</td>\n",
       "      <td>0</td>\n",
       "      <td>0</td>\n",
       "      <td>0</td>\n",
       "      <td>0</td>\n",
       "      <td>0</td>\n",
       "      <td>0</td>\n",
       "      <td>0</td>\n",
       "      <td>0</td>\n",
       "    </tr>\n",
       "  </tbody>\n",
       "</table>\n",
       "<p>5 rows × 47 columns</p>\n",
       "</div>"
      ],
      "text/plain": [
       "     1. 경영학부 09학번 김진용  2. 경영학부 11학번 임철현  3. 경영학부 12학번 강예지  4. 경영학부 12학번 배성원  \\\n",
       "강승훈                 0                 0                 0                 0   \n",
       "황은택                 0                 0                 0                 0   \n",
       "허동숙                 0                 0                 0                 0   \n",
       "배성원                 0                 0                 0                 0   \n",
       "이종석                 0                 0                 0                 0   \n",
       "\n",
       "     5. 경영학부 12학번 윤태성  6. 경영학부 12학번 최용환  7. 경영학부 12학번 김대엽  8. 경영학부 12학번 이호선  \\\n",
       "강승훈                 0                 0                 0                 0   \n",
       "황은택                 0                 0                 0                 0   \n",
       "허동숙                 0                 0                 0                 0   \n",
       "배성원                 1                 1                 0                 1   \n",
       "이종석                 0                 0                 0                 0   \n",
       "\n",
       "     9. 경영학부 13학번 고성규  10. 경영학부 13학번 권오승         ...           \\\n",
       "강승훈                 0                  0         ...            \n",
       "황은택                 0                  0         ...            \n",
       "허동숙                 0                  0         ...            \n",
       "배성원                 0                  0         ...            \n",
       "이종석                 0                  1         ...            \n",
       "\n",
       "     38. 경영학부 17학번 김엘레나  39. 경제학부 13학번 이충현  40. 경제학부 16학번 이예은  \\\n",
       "강승훈                   0                  0                  0   \n",
       "황은택                   0                  0                  0   \n",
       "허동숙                   0                  0                  0   \n",
       "배성원                   0                  0                  0   \n",
       "이종석                   0                  0                  0   \n",
       "\n",
       "     41. 산업경영공학과 14학번 이주영  42. 영미언어문화학과 12학번 강승훈  43. 영미언어문화학과 12학번 허동숙  \\\n",
       "강승훈                     0                      0                      1   \n",
       "황은택                     0                      1                      1   \n",
       "허동숙                     0                      1                      0   \n",
       "배성원                     0                      0                      0   \n",
       "이종석                     0                      0                      0   \n",
       "\n",
       "     44. 영미언어문화학과 14학번 추화정  45. 신문방송학과 13학번 장선호  46. 신문방송학과 14학번 김서현  \\\n",
       "강승훈                      0                    0                    0   \n",
       "황은택                      0                    0                    0   \n",
       "허동숙                      0                    0                    0   \n",
       "배성원                      0                    0                    0   \n",
       "이종석                      0                    0                    0   \n",
       "\n",
       "     47. 정보사회학과 13학번 박상준  \n",
       "강승훈                    0  \n",
       "황은택                    0  \n",
       "허동숙                    0  \n",
       "배성원                    0  \n",
       "이종석                    0  \n",
       "\n",
       "[5 rows x 47 columns]"
      ]
     },
     "execution_count": 6,
     "metadata": {},
     "output_type": "execute_result"
    }
   ],
   "source": [
    "# 구글 설문 데이터를 불러옴.\n",
    "data = pd.read_excel(\"studentnetwork_download.xlsx\")\n",
    "data.head()"
   ]
  },
  {
   "cell_type": "code",
   "execution_count": null,
   "metadata": {},
   "outputs": [],
   "source": [
    "# 설문에 참여를 참여를 안 한 열을 제거함.\n",
    "# 생략\n",
    "data = data.dropna(axis=1) # axis =1 열을 기준으로 삭제\n",
    "data.head()"
   ]
  },
  {
   "cell_type": "code",
   "execution_count": 7,
   "metadata": {},
   "outputs": [
    {
     "data": {
      "text/plain": [
       "Index(['1. 경영학부 09학번 김진용', '2. 경영학부 11학번 임철현', '3. 경영학부 12학번 강예지',\n",
       "       '4. 경영학부 12학번 배성원', '5. 경영학부 12학번 윤태성', '6. 경영학부 12학번 최용환',\n",
       "       '7. 경영학부 12학번 김대엽', '8. 경영학부 12학번 이호선', '9. 경영학부 13학번 고성규',\n",
       "       '10. 경영학부 13학번 권오승', '11. 경영학부 13학번 민경민', '12. 경영학부 13학번 지수창',\n",
       "       '13. 경영학부 13학번 이찬희', '14. 경영학부 14학번 강슬기', '15. 경영학부 14학번 강연주',\n",
       "       '16. 경영학부 14학번 권혜민', '17. 경영학부 14학번 김재경', '18. 경영학부 14학번 우지원',\n",
       "       '19. 경영학부 14학번 유상연', '20. 경영학부 14학번 이종석', '21. 경영학부 14학번 전규리',\n",
       "       '22. 경영학부 14학번 조영욱', '23. 경영학부 14학번 황은택', '24. 경영학부 14학번 최유라',\n",
       "       '25. 경영학부 15학번 고민주', '26. 경영학부 15학번 정혜욱', '27. 경영학부 15학번 하수정',\n",
       "       '28. 경영학부 15학번 한명우', '29. 경영학부 15학번 나미영', '30. 경영학부 15학번 봉인성',\n",
       "       '31. 경영학부 15학번 이혜지', '32. 경영학부 15학번 채영석', '33. 경영학부 16학번 박민진',\n",
       "       '34. 경영학부 16학번 안예지', '35. 경영학부 17학번 박지성', '36. 경영학부 17학번 정재훈',\n",
       "       '37. 경영학부 17학번 한효경', '38. 경영학부 17학번 김엘레나', '39. 경제학부 13학번 이충현',\n",
       "       '40. 경제학부 16학번 이예은', '41. 산업경영공학과 14학번 이주영', '42. 영미언어문화학과 12학번 강승훈',\n",
       "       '43. 영미언어문화학과 12학번 허동숙', '44. 영미언어문화학과 14학번 추화정', '45. 신문방송학과 13학번 장선호',\n",
       "       '46. 신문방송학과 14학번 김서현', '47. 정보사회학과 13학번 박상준'],\n",
       "      dtype='object')"
      ]
     },
     "execution_count": 7,
     "metadata": {},
     "output_type": "execute_result"
    }
   ],
   "source": [
    "# 우리는 adjacency matrix나 edgelist가 필요함.\n",
    "# 컬럼명을 변경해야함. ex) 1. 경영학부 10학번 이정우 -> 이정우\n",
    "data.columns # 우선 컬럼명 조회"
   ]
  },
  {
   "cell_type": "code",
   "execution_count": 8,
   "metadata": {},
   "outputs": [
    {
     "data": {
      "text/plain": [
       "['1.', '경영학부', '09학번', '김진용']"
      ]
     },
     "execution_count": 8,
     "metadata": {},
     "output_type": "execute_result"
    }
   ],
   "source": [
    "data.columns[0].split()"
   ]
  },
  {
   "cell_type": "code",
   "execution_count": 9,
   "metadata": {},
   "outputs": [
    {
     "data": {
      "text/plain": [
       "['김진용', '임철현', '강예지', '배성원', '윤태성']"
      ]
     },
     "execution_count": 9,
     "metadata": {},
     "output_type": "execute_result"
    }
   ],
   "source": [
    "# 컬럼명 정리\n",
    "column_list = []\n",
    "for i in data.columns:\n",
    "    column_list.append(i.split()[-1]) # 공백으로 나눠서 나오는 리스트의 맨 마지막 문자열[-1]이 바로 학생이름임.\n",
    "column_list[:5]"
   ]
  },
  {
   "cell_type": "code",
   "execution_count": 10,
   "metadata": {},
   "outputs": [
    {
     "data": {
      "text/html": [
       "<div>\n",
       "<style scoped>\n",
       "    .dataframe tbody tr th:only-of-type {\n",
       "        vertical-align: middle;\n",
       "    }\n",
       "\n",
       "    .dataframe tbody tr th {\n",
       "        vertical-align: top;\n",
       "    }\n",
       "\n",
       "    .dataframe thead th {\n",
       "        text-align: right;\n",
       "    }\n",
       "</style>\n",
       "<table border=\"1\" class=\"dataframe\">\n",
       "  <thead>\n",
       "    <tr style=\"text-align: right;\">\n",
       "      <th></th>\n",
       "      <th>김진용</th>\n",
       "      <th>임철현</th>\n",
       "      <th>강예지</th>\n",
       "      <th>배성원</th>\n",
       "      <th>윤태성</th>\n",
       "      <th>최용환</th>\n",
       "      <th>김대엽</th>\n",
       "      <th>이호선</th>\n",
       "      <th>고성규</th>\n",
       "      <th>권오승</th>\n",
       "      <th>...</th>\n",
       "      <th>김엘레나</th>\n",
       "      <th>이충현</th>\n",
       "      <th>이예은</th>\n",
       "      <th>이주영</th>\n",
       "      <th>강승훈</th>\n",
       "      <th>허동숙</th>\n",
       "      <th>추화정</th>\n",
       "      <th>장선호</th>\n",
       "      <th>김서현</th>\n",
       "      <th>박상준</th>\n",
       "    </tr>\n",
       "  </thead>\n",
       "  <tbody>\n",
       "    <tr>\n",
       "      <th>강승훈</th>\n",
       "      <td>0</td>\n",
       "      <td>0</td>\n",
       "      <td>0</td>\n",
       "      <td>0</td>\n",
       "      <td>0</td>\n",
       "      <td>0</td>\n",
       "      <td>0</td>\n",
       "      <td>0</td>\n",
       "      <td>0</td>\n",
       "      <td>0</td>\n",
       "      <td>...</td>\n",
       "      <td>0</td>\n",
       "      <td>0</td>\n",
       "      <td>0</td>\n",
       "      <td>0</td>\n",
       "      <td>0</td>\n",
       "      <td>1</td>\n",
       "      <td>0</td>\n",
       "      <td>0</td>\n",
       "      <td>0</td>\n",
       "      <td>0</td>\n",
       "    </tr>\n",
       "    <tr>\n",
       "      <th>황은택</th>\n",
       "      <td>0</td>\n",
       "      <td>0</td>\n",
       "      <td>0</td>\n",
       "      <td>0</td>\n",
       "      <td>0</td>\n",
       "      <td>0</td>\n",
       "      <td>0</td>\n",
       "      <td>0</td>\n",
       "      <td>0</td>\n",
       "      <td>0</td>\n",
       "      <td>...</td>\n",
       "      <td>0</td>\n",
       "      <td>0</td>\n",
       "      <td>0</td>\n",
       "      <td>0</td>\n",
       "      <td>1</td>\n",
       "      <td>1</td>\n",
       "      <td>0</td>\n",
       "      <td>0</td>\n",
       "      <td>0</td>\n",
       "      <td>0</td>\n",
       "    </tr>\n",
       "    <tr>\n",
       "      <th>허동숙</th>\n",
       "      <td>0</td>\n",
       "      <td>0</td>\n",
       "      <td>0</td>\n",
       "      <td>0</td>\n",
       "      <td>0</td>\n",
       "      <td>0</td>\n",
       "      <td>0</td>\n",
       "      <td>0</td>\n",
       "      <td>0</td>\n",
       "      <td>0</td>\n",
       "      <td>...</td>\n",
       "      <td>0</td>\n",
       "      <td>0</td>\n",
       "      <td>0</td>\n",
       "      <td>0</td>\n",
       "      <td>1</td>\n",
       "      <td>0</td>\n",
       "      <td>0</td>\n",
       "      <td>0</td>\n",
       "      <td>0</td>\n",
       "      <td>0</td>\n",
       "    </tr>\n",
       "    <tr>\n",
       "      <th>배성원</th>\n",
       "      <td>0</td>\n",
       "      <td>0</td>\n",
       "      <td>0</td>\n",
       "      <td>0</td>\n",
       "      <td>1</td>\n",
       "      <td>1</td>\n",
       "      <td>0</td>\n",
       "      <td>1</td>\n",
       "      <td>0</td>\n",
       "      <td>0</td>\n",
       "      <td>...</td>\n",
       "      <td>0</td>\n",
       "      <td>0</td>\n",
       "      <td>0</td>\n",
       "      <td>0</td>\n",
       "      <td>0</td>\n",
       "      <td>0</td>\n",
       "      <td>0</td>\n",
       "      <td>0</td>\n",
       "      <td>0</td>\n",
       "      <td>0</td>\n",
       "    </tr>\n",
       "    <tr>\n",
       "      <th>이종석</th>\n",
       "      <td>0</td>\n",
       "      <td>0</td>\n",
       "      <td>0</td>\n",
       "      <td>0</td>\n",
       "      <td>0</td>\n",
       "      <td>0</td>\n",
       "      <td>0</td>\n",
       "      <td>0</td>\n",
       "      <td>0</td>\n",
       "      <td>1</td>\n",
       "      <td>...</td>\n",
       "      <td>0</td>\n",
       "      <td>0</td>\n",
       "      <td>0</td>\n",
       "      <td>0</td>\n",
       "      <td>0</td>\n",
       "      <td>0</td>\n",
       "      <td>0</td>\n",
       "      <td>0</td>\n",
       "      <td>0</td>\n",
       "      <td>0</td>\n",
       "    </tr>\n",
       "  </tbody>\n",
       "</table>\n",
       "<p>5 rows × 47 columns</p>\n",
       "</div>"
      ],
      "text/plain": [
       "     김진용  임철현  강예지  배성원  윤태성  최용환  김대엽  이호선  고성규  권오승 ...   김엘레나  이충현  이예은  \\\n",
       "강승훈    0    0    0    0    0    0    0    0    0    0 ...      0    0    0   \n",
       "황은택    0    0    0    0    0    0    0    0    0    0 ...      0    0    0   \n",
       "허동숙    0    0    0    0    0    0    0    0    0    0 ...      0    0    0   \n",
       "배성원    0    0    0    0    1    1    0    1    0    0 ...      0    0    0   \n",
       "이종석    0    0    0    0    0    0    0    0    0    1 ...      0    0    0   \n",
       "\n",
       "     이주영  강승훈  허동숙  추화정  장선호  김서현  박상준  \n",
       "강승훈    0    0    1    0    0    0    0  \n",
       "황은택    0    1    1    0    0    0    0  \n",
       "허동숙    0    1    0    0    0    0    0  \n",
       "배성원    0    0    0    0    0    0    0  \n",
       "이종석    0    0    0    0    0    0    0  \n",
       "\n",
       "[5 rows x 47 columns]"
      ]
     },
     "execution_count": 10,
     "metadata": {},
     "output_type": "execute_result"
    }
   ],
   "source": [
    "data.columns = column_list\n",
    "data.head()"
   ]
  },
  {
   "cell_type": "code",
   "execution_count": 11,
   "metadata": {},
   "outputs": [
    {
     "data": {
      "text/plain": [
       "[('강승훈', '황은택'),\n",
       " ('강승훈', '허동숙'),\n",
       " ('황은택', '지수창'),\n",
       " ('황은택', '유상연'),\n",
       " ('황은택', '강승훈'),\n",
       " ('황은택', '허동숙'),\n",
       " ('허동숙', '황은택'),\n",
       " ('허동숙', '강승훈'),\n",
       " ('배성원', '윤태성'),\n",
       " ('배성원', '최용환'),\n",
       " ('배성원', '이호선'),\n",
       " ('이종석', '권오승'),\n",
       " ('이종석', '강연주'),\n",
       " ('고민주', '한명우'),\n",
       " ('고민주', '봉인성'),\n",
       " ('고민주', '채영석'),\n",
       " ('최용환', '배성원'),\n",
       " ('최용환', '윤태성'),\n",
       " ('최용환', '김대엽'),\n",
       " ('최용환', '황은택'),\n",
       " ('김재경', '강슬기'),\n",
       " ('김재경', '우지원'),\n",
       " ('김재경', '전규리'),\n",
       " ('한효경', '권오승'),\n",
       " ('한효경', '이종석'),\n",
       " ('나미영', '김진용'),\n",
       " ('나미영', '최유라'),\n",
       " ('나미영', '봉인성'),\n",
       " ('나미영', '이혜지'),\n",
       " ('나미영', '김엘레나'),\n",
       " ('나미영', '이충현'),\n",
       " ('윤태성', '배성원'),\n",
       " ('윤태성', '최용환'),\n",
       " ('지수창', '임철현'),\n",
       " ('지수창', '민경민'),\n",
       " ('지수창', '이찬희'),\n",
       " ('지수창', '강연주'),\n",
       " ('지수창', '김재경'),\n",
       " ('지수창', '유상연'),\n",
       " ('지수창', '이종석'),\n",
       " ('지수창', '황은택'),\n",
       " ('지수창', '한효경'),\n",
       " ('정재훈', '박지성'),\n",
       " ('정재훈', '장선호'),\n",
       " ('정재훈', '박상준'),\n",
       " ('권오승', '임철현'),\n",
       " ('권오승', '김대엽'),\n",
       " ('권오승', '고성규'),\n",
       " ('권오승', '이종석'),\n",
       " ('권오승', '한효경'),\n",
       " ('김진용', '나미영'),\n",
       " ('김진용', '김엘레나'),\n",
       " ('김진용', '이충현'),\n",
       " ('최유라', '한명우'),\n",
       " ('최유라', '나미영'),\n",
       " ('최유라', '봉인성'),\n",
       " ('최유라', '이혜지'),\n",
       " ('최유라', '채영석'),\n",
       " ('최유라', '김서현'),\n",
       " ('이주영', '박지성'),\n",
       " ('이주영', '추화정'),\n",
       " ('이예은', '김대엽'),\n",
       " ('이예은', '권오승'),\n",
       " ('이예은', '강연주'),\n",
       " ('이예은', '유상연'),\n",
       " ('이예은', '전규리'),\n",
       " ('추화정', '박지성'),\n",
       " ('추화정', '이주영'),\n",
       " ('김대엽', '임철현'),\n",
       " ('김대엽', '최용환'),\n",
       " ('김대엽', '이호선'),\n",
       " ('김대엽', '권오승'),\n",
       " ('김대엽', '강연주'),\n",
       " ('김대엽', '우지원'),\n",
       " ('김대엽', '전규리'),\n",
       " ('김대엽', '이예은'),\n",
       " ('장선호', '정재훈'),\n",
       " ('장선호', '김서현'),\n",
       " ('장선호', '박상준'),\n",
       " ('민경민', '임철현'),\n",
       " ('민경민', '이호선'),\n",
       " ('민경민', '고성규'),\n",
       " ('민경민', '권오승'),\n",
       " ('민경민', '지수창'),\n",
       " ('민경민', '이찬희'),\n",
       " ('민경민', '권혜민'),\n",
       " ('민경민', '우지원'),\n",
       " ('민경민', '황은택'),\n",
       " ('민경민', '정혜욱'),\n",
       " ('강연주', '임철현'),\n",
       " ('강연주', '김대엽'),\n",
       " ('강연주', '지수창'),\n",
       " ('강연주', '강슬기'),\n",
       " ('강연주', '권혜민'),\n",
       " ('강연주', '우지원'),\n",
       " ('강연주', '유상연'),\n",
       " ('강연주', '이종석'),\n",
       " ('강연주', '전규리'),\n",
       " ('강연주', '황은택'),\n",
       " ('강연주', '정혜욱'),\n",
       " ('강연주', '이예은'),\n",
       " ('박민진', '하수정'),\n",
       " ('박민진', '안예지'),\n",
       " ('임철현', '김대엽'),\n",
       " ('임철현', '고성규'),\n",
       " ('임철현', '권오승'),\n",
       " ('임철현', '민경민'),\n",
       " ('임철현', '지수창'),\n",
       " ('임철현', '이찬희'),\n",
       " ('임철현', '강연주'),\n",
       " ('임철현', '우지원'),\n",
       " ('임철현', '유상연'),\n",
       " ('임철현', '정혜욱'),\n",
       " ('김엘레나', '김진용'),\n",
       " ('김엘레나', '나미영'),\n",
       " ('김엘레나', '이충현'),\n",
       " ('이혜지', '최유라'),\n",
       " ('이혜지', '나미영'),\n",
       " ('이혜지', '봉인성'),\n",
       " ('이혜지', '채영석'),\n",
       " ('이혜지', '김서현'),\n",
       " ('강슬기', '강연주'),\n",
       " ('강슬기', '김재경'),\n",
       " ('강슬기', '우지원'),\n",
       " ('강슬기', '전규리'),\n",
       " ('전규리', '김대엽'),\n",
       " ('전규리', '강슬기'),\n",
       " ('전규리', '강연주'),\n",
       " ('전규리', '권혜민'),\n",
       " ('전규리', '김재경'),\n",
       " ('전규리', '우지원'),\n",
       " ('전규리', '이예은'),\n",
       " ('고성규', '임철현'),\n",
       " ('고성규', '권오승'),\n",
       " ('고성규', '민경민'),\n",
       " ('고성규', '지수창'),\n",
       " ('고성규', '정혜욱'),\n",
       " ('권혜민', '강예지'),\n",
       " ('권혜민', '이찬희'),\n",
       " ('권혜민', '강연주'),\n",
       " ('권혜민', '우지원'),\n",
       " ('권혜민', '유상연'),\n",
       " ('권혜민', '전규리'),\n",
       " ('권혜민', '황은택'),\n",
       " ('권혜민', '한명우'),\n",
       " ('채영석', '최유라'),\n",
       " ('채영석', '고민주'),\n",
       " ('채영석', '봉인성'),\n",
       " ('채영석', '이혜지'),\n",
       " ('정혜욱', '임철현'),\n",
       " ('정혜욱', '고성규'),\n",
       " ('정혜욱', '민경민'),\n",
       " ('정혜욱', '박상준'),\n",
       " ('유상연', '임철현'),\n",
       " ('유상연', '강예지'),\n",
       " ('유상연', '최용환'),\n",
       " ('유상연', '이찬희'),\n",
       " ('유상연', '강연주'),\n",
       " ('유상연', '권혜민'),\n",
       " ('유상연', '황은택'),\n",
       " ('유상연', '한명우'),\n",
       " ('유상연', '이예은'),\n",
       " ('우지원', '임철현'),\n",
       " ('우지원', '김대엽'),\n",
       " ('우지원', '민경민'),\n",
       " ('우지원', '강슬기'),\n",
       " ('우지원', '강연주'),\n",
       " ('우지원', '권혜민'),\n",
       " ('우지원', '김재경'),\n",
       " ('우지원', '전규리'),\n",
       " ('우지원', '허동숙'),\n",
       " ('조영욱', '이호선'),\n",
       " ('박상준', '정혜욱'),\n",
       " ('박상준', '정재훈'),\n",
       " ('박상준', '장선호'),\n",
       " ('이찬희', '임철현'),\n",
       " ('이찬희', '민경민'),\n",
       " ('이찬희', '지수창'),\n",
       " ('이찬희', '권혜민'),\n",
       " ('이찬희', '유상연'),\n",
       " ('이찬희', '황은택'),\n",
       " ('하수정', '박민진'),\n",
       " ('하수정', '안예지'),\n",
       " ('김서현', '최유라'),\n",
       " ('김서현', '이혜지'),\n",
       " ('김서현', '장선호'),\n",
       " ('박지성', '정재훈'),\n",
       " ('박지성', '이주영'),\n",
       " ('박지성', '추화정'),\n",
       " ('안예지', '하수정'),\n",
       " ('안예지', '박민진')]"
      ]
     },
     "execution_count": 11,
     "metadata": {},
     "output_type": "execute_result"
    }
   ],
   "source": [
    "# 엣지리스트 만들기\n",
    "edgelist = []\n",
    "for i in data.index:\n",
    "    for j in data.columns:\n",
    "        if data.loc[i,j] == 1:\n",
    "            edgelist.append((i,j))\n",
    "        else:\n",
    "            pass\n",
    "edgelist"
   ]
  },
  {
   "cell_type": "code",
   "execution_count": 12,
   "metadata": {},
   "outputs": [
    {
     "data": {
      "text/plain": [
       "191"
      ]
     },
     "execution_count": 12,
     "metadata": {},
     "output_type": "execute_result"
    }
   ],
   "source": [
    "len(edgelist) # 관계의 수를 확인"
   ]
  },
  {
   "cell_type": "code",
   "execution_count": 14,
   "metadata": {},
   "outputs": [],
   "source": [
    "# 방향성 그래프를 만들고, 우리가 만든 관계 리스트(edgelist)를 입력시킨다.\n",
    "G = nx.DiGraph()\n",
    "G.add_edges_from(edgelist)"
   ]
  },
  {
   "cell_type": "code",
   "execution_count": 15,
   "metadata": {},
   "outputs": [
    {
     "data": {
      "text/plain": [
       "NodeView(('강승훈', '황은택', '허동숙', '지수창', '유상연', '배성원', '윤태성', '최용환', '이호선', '이종석', '권오승', '강연주', '고민주', '한명우', '봉인성', '채영석', '김대엽', '김재경', '강슬기', '우지원', '전규리', '한효경', '나미영', '김진용', '최유라', '이혜지', '김엘레나', '이충현', '임철현', '민경민', '이찬희', '정재훈', '박지성', '장선호', '박상준', '고성규', '김서현', '이주영', '추화정', '이예은', '권혜민', '정혜욱', '박민진', '하수정', '안예지', '강예지', '조영욱'))"
      ]
     },
     "execution_count": 15,
     "metadata": {},
     "output_type": "execute_result"
    }
   ],
   "source": [
    "# node 확인\n",
    "G.node"
   ]
  },
  {
   "cell_type": "code",
   "execution_count": 16,
   "metadata": {},
   "outputs": [
    {
     "data": {
      "text/plain": [
       "OutEdgeView([('강승훈', '황은택'), ('강승훈', '허동숙'), ('황은택', '지수창'), ('황은택', '유상연'), ('황은택', '강승훈'), ('황은택', '허동숙'), ('허동숙', '황은택'), ('허동숙', '강승훈'), ('지수창', '임철현'), ('지수창', '민경민'), ('지수창', '이찬희'), ('지수창', '강연주'), ('지수창', '김재경'), ('지수창', '유상연'), ('지수창', '이종석'), ('지수창', '황은택'), ('지수창', '한효경'), ('유상연', '임철현'), ('유상연', '강예지'), ('유상연', '최용환'), ('유상연', '이찬희'), ('유상연', '강연주'), ('유상연', '권혜민'), ('유상연', '황은택'), ('유상연', '한명우'), ('유상연', '이예은'), ('배성원', '윤태성'), ('배성원', '최용환'), ('배성원', '이호선'), ('윤태성', '배성원'), ('윤태성', '최용환'), ('최용환', '배성원'), ('최용환', '윤태성'), ('최용환', '김대엽'), ('최용환', '황은택'), ('이종석', '권오승'), ('이종석', '강연주'), ('권오승', '임철현'), ('권오승', '김대엽'), ('권오승', '고성규'), ('권오승', '이종석'), ('권오승', '한효경'), ('강연주', '임철현'), ('강연주', '김대엽'), ('강연주', '지수창'), ('강연주', '강슬기'), ('강연주', '권혜민'), ('강연주', '우지원'), ('강연주', '유상연'), ('강연주', '이종석'), ('강연주', '전규리'), ('강연주', '황은택'), ('강연주', '정혜욱'), ('강연주', '이예은'), ('고민주', '한명우'), ('고민주', '봉인성'), ('고민주', '채영석'), ('채영석', '최유라'), ('채영석', '고민주'), ('채영석', '봉인성'), ('채영석', '이혜지'), ('김대엽', '임철현'), ('김대엽', '최용환'), ('김대엽', '이호선'), ('김대엽', '권오승'), ('김대엽', '강연주'), ('김대엽', '우지원'), ('김대엽', '전규리'), ('김대엽', '이예은'), ('김재경', '강슬기'), ('김재경', '우지원'), ('김재경', '전규리'), ('강슬기', '강연주'), ('강슬기', '김재경'), ('강슬기', '우지원'), ('강슬기', '전규리'), ('우지원', '임철현'), ('우지원', '김대엽'), ('우지원', '민경민'), ('우지원', '강슬기'), ('우지원', '강연주'), ('우지원', '권혜민'), ('우지원', '김재경'), ('우지원', '전규리'), ('우지원', '허동숙'), ('전규리', '김대엽'), ('전규리', '강슬기'), ('전규리', '강연주'), ('전규리', '권혜민'), ('전규리', '김재경'), ('전규리', '우지원'), ('전규리', '이예은'), ('한효경', '권오승'), ('한효경', '이종석'), ('나미영', '김진용'), ('나미영', '최유라'), ('나미영', '봉인성'), ('나미영', '이혜지'), ('나미영', '김엘레나'), ('나미영', '이충현'), ('김진용', '나미영'), ('김진용', '김엘레나'), ('김진용', '이충현'), ('최유라', '한명우'), ('최유라', '나미영'), ('최유라', '봉인성'), ('최유라', '이혜지'), ('최유라', '채영석'), ('최유라', '김서현'), ('이혜지', '최유라'), ('이혜지', '나미영'), ('이혜지', '봉인성'), ('이혜지', '채영석'), ('이혜지', '김서현'), ('김엘레나', '김진용'), ('김엘레나', '나미영'), ('김엘레나', '이충현'), ('임철현', '김대엽'), ('임철현', '고성규'), ('임철현', '권오승'), ('임철현', '민경민'), ('임철현', '지수창'), ('임철현', '이찬희'), ('임철현', '강연주'), ('임철현', '우지원'), ('임철현', '유상연'), ('임철현', '정혜욱'), ('민경민', '임철현'), ('민경민', '이호선'), ('민경민', '고성규'), ('민경민', '권오승'), ('민경민', '지수창'), ('민경민', '이찬희'), ('민경민', '권혜민'), ('민경민', '우지원'), ('민경민', '황은택'), ('민경민', '정혜욱'), ('이찬희', '임철현'), ('이찬희', '민경민'), ('이찬희', '지수창'), ('이찬희', '권혜민'), ('이찬희', '유상연'), ('이찬희', '황은택'), ('정재훈', '박지성'), ('정재훈', '장선호'), ('정재훈', '박상준'), ('박지성', '정재훈'), ('박지성', '이주영'), ('박지성', '추화정'), ('장선호', '정재훈'), ('장선호', '김서현'), ('장선호', '박상준'), ('박상준', '정혜욱'), ('박상준', '정재훈'), ('박상준', '장선호'), ('고성규', '임철현'), ('고성규', '권오승'), ('고성규', '민경민'), ('고성규', '지수창'), ('고성규', '정혜욱'), ('김서현', '최유라'), ('김서현', '이혜지'), ('김서현', '장선호'), ('이주영', '박지성'), ('이주영', '추화정'), ('추화정', '박지성'), ('추화정', '이주영'), ('이예은', '김대엽'), ('이예은', '권오승'), ('이예은', '강연주'), ('이예은', '유상연'), ('이예은', '전규리'), ('권혜민', '강예지'), ('권혜민', '이찬희'), ('권혜민', '강연주'), ('권혜민', '우지원'), ('권혜민', '유상연'), ('권혜민', '전규리'), ('권혜민', '황은택'), ('권혜민', '한명우'), ('정혜욱', '임철현'), ('정혜욱', '고성규'), ('정혜욱', '민경민'), ('정혜욱', '박상준'), ('박민진', '하수정'), ('박민진', '안예지'), ('하수정', '박민진'), ('하수정', '안예지'), ('안예지', '하수정'), ('안예지', '박민진'), ('조영욱', '이호선')])"
      ]
     },
     "execution_count": 16,
     "metadata": {},
     "output_type": "execute_result"
    }
   ],
   "source": [
    "# edge 확인\n",
    "G.edges"
   ]
  },
  {
   "cell_type": "markdown",
   "metadata": {},
   "source": [
    "### 그래프 그려보기\n",
    "![색깔조합](named_colors.png)\n",
    "- [색상참조](https://matplotlib.org/2.0.2/examples/color/named_colors.html)\n",
    "- [파라미터 참조](https://networkx.github.io/documentation/latest/reference/generated/networkx.drawing.nx_pylab.draw_networkx.html#networkx.drawing.nx_pylab.draw_networkx)"
   ]
  },
  {
   "cell_type": "markdown",
   "metadata": {},
   "source": [
    "- nx.draw(G) : 기본 그리기\n",
    "- nx.draw_circular(G) : 원 위에 노드 놓기\n",
    "- nx.draw_graphviz(G) : Graphviz 사용\n",
    "- nx.draw_kamada_kawai(G) : kamada_kawai 알고리즘\n",
    "- nx.draw_random(G) : 균등 분포를 이용한 랜덤\n",
    "- nx.draw_shell(G) : 동심원 위에 노드 놓기\n",
    "- nx.draw_spectral(G) : 그래프 라플라시안의 고유 벡터 기반\n",
    "- nx.draw_spring(G) : Fruchterman-Reingold force-directed alg. 기반"
   ]
  },
  {
   "cell_type": "code",
   "execution_count": 17,
   "metadata": {},
   "outputs": [
    {
     "data": {
      "image/png": "[encoded data removed]",
      "text/plain": [
       "<Figure size 432x288 with 1 Axes>"
      ]
     },
     "metadata": {},
     "output_type": "display_data"
    }
   ],
   "source": [
    "nx.draw_shell(G, node_size = [j * 10 for i, j in nx.degree(G)], # 노드 사이즈\n",
    "                     node_color = \"orange\", # 노드 색상\n",
    "                     edge_color = \"slategray\", # 엣지 색상\n",
    "                     alpha = 0.7, # 노드와 엣지의 투명도\n",
    "                     with_labels = True,# 노드 이름 표시 여부\n",
    "                     font_size=10, # 폰트 사이즈\n",
    "                     font_family='Malgun Gothic', # 한글설정\n",
    "                     arrowsize = 10) # 화살표 크기\n",
    "plt.rc('font', family='Malgun Gothic') # 폰트 문제\n",
    "plt.title('한양대 2018 경데베 교우 네트워크') # 그래프 제목\n",
    "plt.savefig('first_network.png') # 파일 저장"
   ]
  },
  {
   "cell_type": "code",
   "execution_count": 18,
   "metadata": {},
   "outputs": [
    {
     "data": {
      "image/png": "[encoded data removed]",
      "text/plain": [
       "<Figure size 432x288 with 1 Axes>"
      ]
     },
     "metadata": {},
     "output_type": "display_data"
    }
   ],
   "source": [
    "nx.draw_kamada_kawai(G, node_size = [j * 10 for i, j in nx.degree(G)], # 노드 사이즈\n",
    "                     # node_color = \"cadetblue\", # 노드 색상\n",
    "                     node_color = range(len(G.nodes)),\n",
    "                     edge_color = \"skyblue\", # 엣지 색상\n",
    "                     # edge_color=colors,\n",
    "                     alpha = 0.7, # 노드와 엣지의 투명도\n",
    "                     with_labels = True, # 노드 이름 표시 여부\n",
    "                     font_size=10, # 폰트 사이즈\n",
    "                     font_family='Malgun Gothic', # 한글설정\n",
    "                     arrowsize = 10) # 화살표 크기\n",
    "plt.rc('font', family='Malgun Gothic') # 폰트 문제\n",
    "plt.title('한양대 2018 경데베 교우 네트워크') # 그래프 제목\n",
    "plt.savefig('second_network.png') # 파일 저장"
   ]
  },
  {
   "cell_type": "code",
   "execution_count": null,
   "metadata": {},
   "outputs": [],
   "source": []
  },
  {
   "cell_type": "markdown",
   "metadata": {},
   "source": [
    "## 4. 데이터 분석"
   ]
  },
  {
   "cell_type": "markdown",
   "metadata": {},
   "source": [
    "### 연결 정도(양적인 영향력)"
   ]
  },
  {
   "cell_type": "code",
   "execution_count": 19,
   "metadata": {},
   "outputs": [
    {
     "data": {
      "text/plain": [
       "DiDegreeView({'강승훈': 4, '황은택': 13, '허동숙': 5, '지수창': 15, '유상연': 16, '배성원': 5, '윤태성': 4, '최용환': 8, '이호선': 4, '이종석': 6, '권오승': 12, '강연주': 22, '고민주': 4, '한명우': 4, '봉인성': 5, '채영석': 7, '김대엽': 15, '김재경': 7, '강슬기': 8, '우지원': 17, '전규리': 14, '한효경': 4, '나미영': 10, '김진용': 5, '최유라': 10, '이혜지': 9, '김엘레나': 5, '이충현': 3, '임철현': 20, '민경민': 16, '이찬희': 11, '정재훈': 6, '박지성': 6, '장선호': 6, '박상준': 6, '고성규': 9, '김서현': 6, '이주영': 4, '추화정': 4, '이예은': 9, '권혜민': 14, '정혜욱': 9, '박민진': 4, '하수정': 4, '안예지': 4, '강예지': 2, '조영욱': 1})"
      ]
     },
     "execution_count": 19,
     "metadata": {},
     "output_type": "execute_result"
    }
   ],
   "source": [
    "nx.degree(G)"
   ]
  },
  {
   "cell_type": "code",
   "execution_count": 20,
   "metadata": {},
   "outputs": [
    {
     "data": {
      "text/html": [
       "<div>\n",
       "<style scoped>\n",
       "    .dataframe tbody tr th:only-of-type {\n",
       "        vertical-align: middle;\n",
       "    }\n",
       "\n",
       "    .dataframe tbody tr th {\n",
       "        vertical-align: top;\n",
       "    }\n",
       "\n",
       "    .dataframe thead th {\n",
       "        text-align: right;\n",
       "    }\n",
       "</style>\n",
       "<table border=\"1\" class=\"dataframe\">\n",
       "  <thead>\n",
       "    <tr style=\"text-align: right;\">\n",
       "      <th></th>\n",
       "      <th>0</th>\n",
       "      <th>1</th>\n",
       "    </tr>\n",
       "  </thead>\n",
       "  <tbody>\n",
       "    <tr>\n",
       "      <th>11</th>\n",
       "      <td>강연주</td>\n",
       "      <td>22</td>\n",
       "    </tr>\n",
       "    <tr>\n",
       "      <th>28</th>\n",
       "      <td>임철현</td>\n",
       "      <td>20</td>\n",
       "    </tr>\n",
       "    <tr>\n",
       "      <th>19</th>\n",
       "      <td>우지원</td>\n",
       "      <td>17</td>\n",
       "    </tr>\n",
       "    <tr>\n",
       "      <th>4</th>\n",
       "      <td>유상연</td>\n",
       "      <td>16</td>\n",
       "    </tr>\n",
       "    <tr>\n",
       "      <th>29</th>\n",
       "      <td>민경민</td>\n",
       "      <td>16</td>\n",
       "    </tr>\n",
       "    <tr>\n",
       "      <th>16</th>\n",
       "      <td>김대엽</td>\n",
       "      <td>15</td>\n",
       "    </tr>\n",
       "    <tr>\n",
       "      <th>3</th>\n",
       "      <td>지수창</td>\n",
       "      <td>15</td>\n",
       "    </tr>\n",
       "    <tr>\n",
       "      <th>40</th>\n",
       "      <td>권혜민</td>\n",
       "      <td>14</td>\n",
       "    </tr>\n",
       "    <tr>\n",
       "      <th>20</th>\n",
       "      <td>전규리</td>\n",
       "      <td>14</td>\n",
       "    </tr>\n",
       "    <tr>\n",
       "      <th>1</th>\n",
       "      <td>황은택</td>\n",
       "      <td>13</td>\n",
       "    </tr>\n",
       "  </tbody>\n",
       "</table>\n",
       "</div>"
      ],
      "text/plain": [
       "      0   1\n",
       "11  강연주  22\n",
       "28  임철현  20\n",
       "19  우지원  17\n",
       "4   유상연  16\n",
       "29  민경민  16\n",
       "16  김대엽  15\n",
       "3   지수창  15\n",
       "40  권혜민  14\n",
       "20  전규리  14\n",
       "1   황은택  13"
      ]
     },
     "execution_count": 20,
     "metadata": {},
     "output_type": "execute_result"
    }
   ],
   "source": [
    "pd.DataFrame(list(nx.degree(G))).sort_values(by=1, ascending = False).head(10)"
   ]
  },
  {
   "cell_type": "markdown",
   "metadata": {},
   "source": [
    "### 연결중심성\n",
    "- 연결 정도를 비율로 계산(상대적 비교)"
   ]
  },
  {
   "cell_type": "code",
   "execution_count": 26,
   "metadata": {},
   "outputs": [
    {
     "data": {
      "text/plain": [
       "{'강슬기': 0.08695652173913043,\n",
       " '강승훈': 0.043478260869565216,\n",
       " '강연주': 0.21739130434782608,\n",
       " '강예지': 0.043478260869565216,\n",
       " '고민주': 0.021739130434782608,\n",
       " '고성규': 0.08695652173913043,\n",
       " '권오승': 0.15217391304347827,\n",
       " '권혜민': 0.13043478260869565,\n",
       " '김대엽': 0.15217391304347827,\n",
       " '김서현': 0.06521739130434782,\n",
       " '김엘레나': 0.043478260869565216,\n",
       " '김재경': 0.08695652173913043,\n",
       " '김진용': 0.043478260869565216,\n",
       " '나미영': 0.08695652173913043,\n",
       " '민경민': 0.13043478260869565,\n",
       " '박민진': 0.043478260869565216,\n",
       " '박상준': 0.06521739130434782,\n",
       " '박지성': 0.06521739130434782,\n",
       " '배성원': 0.043478260869565216,\n",
       " '봉인성': 0.10869565217391304,\n",
       " '안예지': 0.043478260869565216,\n",
       " '우지원': 0.17391304347826086,\n",
       " '유상연': 0.15217391304347827,\n",
       " '윤태성': 0.043478260869565216,\n",
       " '이예은': 0.08695652173913043,\n",
       " '이종석': 0.08695652173913043,\n",
       " '이주영': 0.043478260869565216,\n",
       " '이찬희': 0.10869565217391304,\n",
       " '이충현': 0.06521739130434782,\n",
       " '이혜지': 0.08695652173913043,\n",
       " '이호선': 0.08695652173913043,\n",
       " '임철현': 0.21739130434782608,\n",
       " '장선호': 0.06521739130434782,\n",
       " '전규리': 0.15217391304347827,\n",
       " '정재훈': 0.06521739130434782,\n",
       " '정혜욱': 0.10869565217391304,\n",
       " '조영욱': 0.0,\n",
       " '지수창': 0.13043478260869565,\n",
       " '채영석': 0.06521739130434782,\n",
       " '최용환': 0.08695652173913043,\n",
       " '최유라': 0.08695652173913043,\n",
       " '추화정': 0.043478260869565216,\n",
       " '하수정': 0.043478260869565216,\n",
       " '한명우': 0.08695652173913043,\n",
       " '한효경': 0.043478260869565216,\n",
       " '허동숙': 0.06521739130434782,\n",
       " '황은택': 0.19565217391304346}"
      ]
     },
     "execution_count": 26,
     "metadata": {},
     "output_type": "execute_result"
    }
   ],
   "source": [
    "nx.in_degree_centrality(G)"
   ]
  },
  {
   "cell_type": "code",
   "execution_count": 22,
   "metadata": {},
   "outputs": [
    {
     "data": {
      "text/plain": [
       "{'강슬기': 0.1932523997741389,\n",
       " '강승훈': 0.19077480490523968,\n",
       " '강연주': 0.2419582891481089,\n",
       " '강예지': 0.19742958709324585,\n",
       " '고민주': 0.11856920145504937,\n",
       " '고성규': 0.2380869565217391,\n",
       " '권오승': 0.2254611330698287,\n",
       " '권혜민': 0.2254611330698287,\n",
       " '김대엽': 0.234337555631633,\n",
       " '김서현': 0.18955967875934646,\n",
       " '김엘레나': 0.12000350631136046,\n",
       " '김재경': 0.19579519450800917,\n",
       " '김진용': 0.12000350631136046,\n",
       " '나미영': 0.13972239232496428,\n",
       " '민경민': 0.2500913408841798,\n",
       " '박민진': 0.043478260869565216,\n",
       " '박상준': 0.2500913408841798,\n",
       " '박지성': 0.1730283114256825,\n",
       " '배성원': 0.16262770254217154,\n",
       " '봉인성': 0.14737701571749337,\n",
       " '안예지': 0.043478260869565216,\n",
       " '우지원': 0.23070441523424337,\n",
       " '유상연': 0.23619737750172534,\n",
       " '윤태성': 0.16262770254217154,\n",
       " '이예은': 0.20245489500147887,\n",
       " '이종석': 0.20108695652173914,\n",
       " '이주영': 0.14377231674018062,\n",
       " '이찬희': 0.22045088566827697,\n",
       " '이충현': 0.12606949537279555,\n",
       " '이혜지': 0.16352126134734832,\n",
       " '이호선': 0.2361801242236025,\n",
       " '임철현': 0.2730355005983247,\n",
       " '장선호': 0.22045088566827697,\n",
       " '전규리': 0.2038415723645027,\n",
       " '정재훈': 0.2125776397515528,\n",
       " '정혜욱': 0.2730355005983247,\n",
       " '조영욱': 0.0,\n",
       " '지수창': 0.234337555631633,\n",
       " '채영석': 0.13842264914054603,\n",
       " '최용환': 0.20108695652173914,\n",
       " '최유라': 0.16352126134734832,\n",
       " '추화정': 0.14377231674018062,\n",
       " '하수정': 0.043478260869565216,\n",
       " '한명우': 0.29614438063986875,\n",
       " '한효경': 0.19077480490523968,\n",
       " '허동숙': 0.19973737963233149,\n",
       " '황은택': 0.2419582891481089}"
      ]
     },
     "execution_count": 22,
     "metadata": {},
     "output_type": "execute_result"
    }
   ],
   "source": [
    "nx.closeness_centrality(G)"
   ]
  },
  {
   "cell_type": "code",
   "execution_count": 23,
   "metadata": {},
   "outputs": [
    {
     "data": {
      "text/plain": [
       "{'강슬기': 0.0025866672243483836,\n",
       " '강승훈': 0.0,\n",
       " '강연주': 0.12969828078523732,\n",
       " '강예지': 0.0,\n",
       " '고민주': 0.00024154589371980676,\n",
       " '고성규': 0.018995684937713933,\n",
       " '권오승': 0.029093279238206787,\n",
       " '권혜민': 0.01768330300938997,\n",
       " '김대엽': 0.08001509092088799,\n",
       " '김서현': 0.24122383252818033,\n",
       " '김엘레나': 0.0,\n",
       " '김재경': 0.0017945326278659612,\n",
       " '김진용': 0.0,\n",
       " '나미영': 0.08840579710144927,\n",
       " '민경민': 0.08993840432246232,\n",
       " '박민진': 0.0,\n",
       " '박상준': 0.3371980676328502,\n",
       " '박지성': 0.07246376811594203,\n",
       " '배성원': 0.0007936507936507937,\n",
       " '봉인성': 0.0,\n",
       " '안예지': 0.0,\n",
       " '우지원': 0.04332299745343226,\n",
       " '유상연': 0.06751972128783722,\n",
       " '윤태성': 0.0,\n",
       " '이예은': 0.0029979735776837226,\n",
       " '이종석': 0.008252405136463107,\n",
       " '이주영': 0.0,\n",
       " '이찬희': 0.002436713849757328,\n",
       " '이충현': 0.0,\n",
       " '이혜지': 0.09565217391304348,\n",
       " '이호선': 0.0,\n",
       " '임철현': 0.15843319723754506,\n",
       " '장선호': 0.2619967793880837,\n",
       " '전규리': 0.011781890948557612,\n",
       " '정재훈': 0.10579710144927536,\n",
       " '정혜욱': 0.34792751531881966,\n",
       " '조영욱': 0.0,\n",
       " '지수창': 0.0536775275181072,\n",
       " '채영석': 0.036231884057971016,\n",
       " '최용환': 0.07248907292385552,\n",
       " '최유라': 0.10088566827697262,\n",
       " '추화정': 0.0,\n",
       " '하수정': 0.0,\n",
       " '한명우': 0.0,\n",
       " '한효경': 0.00036231884057971015,\n",
       " '허동숙': 0.001880607315389924,\n",
       " '황은택': 0.07087955120563819}"
      ]
     },
     "execution_count": 23,
     "metadata": {},
     "output_type": "execute_result"
    }
   ],
   "source": [
    "nx.betweenness_centrality(G)"
   ]
  },
  {
   "cell_type": "markdown",
   "metadata": {},
   "source": [
    "![삼각관계](triads.jpg)"
   ]
  },
  {
   "cell_type": "markdown",
   "metadata": {},
   "source": [
    "- 1-003\n",
    "- 3-102\n",
    "- 4-021D\n",
    "- 6-021C"
   ]
  },
  {
   "cell_type": "code",
   "execution_count": 24,
   "metadata": {},
   "outputs": [
    {
     "data": {
      "text/plain": [
       "{'003': 11657,\n",
       " '012': 1264,\n",
       " '021C': 9,\n",
       " '021D': 20,\n",
       " '021U': 22,\n",
       " '030C': 0,\n",
       " '030T': 2,\n",
       " '102': 2849,\n",
       " '111D': 42,\n",
       " '111U': 111,\n",
       " '120C': 1,\n",
       " '120D': 0,\n",
       " '120U': 14,\n",
       " '201': 159,\n",
       " '210': 20,\n",
       " '300': 45}"
      ]
     },
     "execution_count": 24,
     "metadata": {},
     "output_type": "execute_result"
    }
   ],
   "source": [
    "nx.triadic_census(G)"
   ]
  },
  {
   "cell_type": "markdown",
   "metadata": {},
   "source": [
    "## 5. 분석 결과"
   ]
  },
  {
   "cell_type": "code",
   "execution_count": 27,
   "metadata": {},
   "outputs": [
    {
     "name": "stdout",
     "output_type": "stream",
     "text": [
      "Number of Nodes :  47\n",
      "Number of Edges :  191\n",
      "Avg. Node Degree :  8.127659574468085\n"
     ]
    },
    {
     "ename": "NetworkXError",
     "evalue": "Graph is not weakly connected.",
     "output_type": "error",
     "traceback": [
      "\u001b[1;31m---------------------------------------------------------------------------\u001b[0m",
      "\u001b[1;31mNetworkXError\u001b[0m                             Traceback (most recent call last)",
      "\u001b[1;32m<ipython-input-27-83ac0a2ba5bb>\u001b[0m in \u001b[0;36m<module>\u001b[1;34m()\u001b[0m\n\u001b[0;32m      3\u001b[0m \u001b[0mdegreelist\u001b[0m \u001b[1;33m=\u001b[0m \u001b[0mlist\u001b[0m\u001b[1;33m(\u001b[0m\u001b[0mpd\u001b[0m\u001b[1;33m.\u001b[0m\u001b[0mDataFrame\u001b[0m\u001b[1;33m(\u001b[0m\u001b[0mlist\u001b[0m\u001b[1;33m(\u001b[0m\u001b[0mnx\u001b[0m\u001b[1;33m.\u001b[0m\u001b[0mdegree\u001b[0m\u001b[1;33m(\u001b[0m\u001b[0mG\u001b[0m\u001b[1;33m)\u001b[0m\u001b[1;33m)\u001b[0m\u001b[1;33m)\u001b[0m\u001b[1;33m.\u001b[0m\u001b[0miloc\u001b[0m\u001b[1;33m[\u001b[0m\u001b[1;33m:\u001b[0m\u001b[1;33m,\u001b[0m\u001b[1;36m1\u001b[0m\u001b[1;33m]\u001b[0m\u001b[1;33m)\u001b[0m\u001b[1;33m\u001b[0m\u001b[0m\n\u001b[0;32m      4\u001b[0m \u001b[0mprint\u001b[0m\u001b[1;33m(\u001b[0m\u001b[1;34m\"Avg. Node Degree : \"\u001b[0m\u001b[1;33m,\u001b[0m \u001b[0mfloat\u001b[0m\u001b[1;33m(\u001b[0m\u001b[0msum\u001b[0m\u001b[1;33m(\u001b[0m\u001b[0mdegreelist\u001b[0m\u001b[1;33m)\u001b[0m\u001b[1;33m)\u001b[0m\u001b[1;33m/\u001b[0m\u001b[0mnx\u001b[0m\u001b[1;33m.\u001b[0m\u001b[0mnumber_of_nodes\u001b[0m\u001b[1;33m(\u001b[0m\u001b[0mG\u001b[0m\u001b[1;33m)\u001b[0m\u001b[1;33m)\u001b[0m\u001b[1;33m\u001b[0m\u001b[0m\n\u001b[1;32m----> 5\u001b[1;33m \u001b[0mprint\u001b[0m\u001b[1;33m(\u001b[0m\u001b[1;34m\"Avg. Path Length : \"\u001b[0m\u001b[1;33m,\u001b[0m \u001b[0mnx\u001b[0m\u001b[1;33m.\u001b[0m\u001b[0maverage_shortest_path_length\u001b[0m\u001b[1;33m(\u001b[0m\u001b[0mG\u001b[0m\u001b[1;33m)\u001b[0m\u001b[1;33m)\u001b[0m\u001b[1;33m\u001b[0m\u001b[0m\n\u001b[0m",
      "\u001b[1;32m~\\Miniconda3\\lib\\site-packages\\networkx\\algorithms\\shortest_paths\\generic.py\u001b[0m in \u001b[0;36maverage_shortest_path_length\u001b[1;34m(G, weight)\u001b[0m\n\u001b[0;32m    320\u001b[0m     \u001b[1;31m# Shortest path length is undefined if the graph is disconnected.\u001b[0m\u001b[1;33m\u001b[0m\u001b[1;33m\u001b[0m\u001b[0m\n\u001b[0;32m    321\u001b[0m     \u001b[1;32mif\u001b[0m \u001b[0mG\u001b[0m\u001b[1;33m.\u001b[0m\u001b[0mis_directed\u001b[0m\u001b[1;33m(\u001b[0m\u001b[1;33m)\u001b[0m \u001b[1;32mand\u001b[0m \u001b[1;32mnot\u001b[0m \u001b[0mnx\u001b[0m\u001b[1;33m.\u001b[0m\u001b[0mis_weakly_connected\u001b[0m\u001b[1;33m(\u001b[0m\u001b[0mG\u001b[0m\u001b[1;33m)\u001b[0m\u001b[1;33m:\u001b[0m\u001b[1;33m\u001b[0m\u001b[0m\n\u001b[1;32m--> 322\u001b[1;33m         \u001b[1;32mraise\u001b[0m \u001b[0mnx\u001b[0m\u001b[1;33m.\u001b[0m\u001b[0mNetworkXError\u001b[0m\u001b[1;33m(\u001b[0m\u001b[1;34m\"Graph is not weakly connected.\"\u001b[0m\u001b[1;33m)\u001b[0m\u001b[1;33m\u001b[0m\u001b[0m\n\u001b[0m\u001b[0;32m    323\u001b[0m     \u001b[1;32mif\u001b[0m \u001b[1;32mnot\u001b[0m \u001b[0mG\u001b[0m\u001b[1;33m.\u001b[0m\u001b[0mis_directed\u001b[0m\u001b[1;33m(\u001b[0m\u001b[1;33m)\u001b[0m \u001b[1;32mand\u001b[0m \u001b[1;32mnot\u001b[0m \u001b[0mnx\u001b[0m\u001b[1;33m.\u001b[0m\u001b[0mis_connected\u001b[0m\u001b[1;33m(\u001b[0m\u001b[0mG\u001b[0m\u001b[1;33m)\u001b[0m\u001b[1;33m:\u001b[0m\u001b[1;33m\u001b[0m\u001b[0m\n\u001b[0;32m    324\u001b[0m         \u001b[1;32mraise\u001b[0m \u001b[0mnx\u001b[0m\u001b[1;33m.\u001b[0m\u001b[0mNetworkXError\u001b[0m\u001b[1;33m(\u001b[0m\u001b[1;34m\"Graph is not connected.\"\u001b[0m\u001b[1;33m)\u001b[0m\u001b[1;33m\u001b[0m\u001b[0m\n",
      "\u001b[1;31mNetworkXError\u001b[0m: Graph is not weakly connected."
     ]
    }
   ],
   "source": [
    "print(\"Number of Nodes : \", nx.number_of_nodes(G))\n",
    "print(\"Number of Edges : \", nx.number_of_edges(G))\n",
    "degreelist = list(pd.DataFrame(list(nx.degree(G))).iloc[:,1])\n",
    "print(\"Avg. Node Degree : \", float(sum(degreelist))/nx.number_of_nodes(G))\n",
    "print(\"Avg. Path Length : \", nx.average_shortest_path_length(G))"
   ]
  },
  {
   "cell_type": "code",
   "execution_count": 28,
   "metadata": {},
   "outputs": [
    {
     "data": {
      "text/plain": [
       "NodeView(('강승훈', '황은택', '허동숙', '지수창', '유상연', '배성원', '윤태성', '최용환', '이호선', '이종석', '권오승', '강연주', '고민주', '한명우', '봉인성', '채영석', '김대엽', '김재경', '강슬기', '우지원', '전규리', '한효경', '나미영', '김진용', '최유라', '이혜지', '김엘레나', '이충현', '임철현', '민경민', '이찬희', '정재훈', '박지성', '장선호', '박상준', '고성규', '김서현', '이주영', '추화정', '이예은', '권혜민', '정혜욱', '박민진', '하수정', '안예지', '강예지', '조영욱'))"
      ]
     },
     "execution_count": 28,
     "metadata": {},
     "output_type": "execute_result"
    }
   ],
   "source": [
    "G.nodes"
   ]
  },
  {
   "cell_type": "code",
   "execution_count": 34,
   "metadata": {},
   "outputs": [],
   "source": [
    "eG = nx.ego_graph(G, \"박지성\", radius=1, center=True, undirected=False, distance=None)"
   ]
  },
  {
   "cell_type": "code",
   "execution_count": 36,
   "metadata": {},
   "outputs": [
    {
     "data": {
      "image/png": "[encoded data removed]",
      "text/plain": [
       "<Figure size 432x288 with 1 Axes>"
      ]
     },
     "metadata": {},
     "output_type": "display_data"
    }
   ],
   "source": [
    "nx.draw_kamada_kawai(eG, node_size = [j * 10 for i, j in nx.degree(G)], # 노드 사이즈\n",
    "                     node_color = \"cadetblue\", # 노드 색상\n",
    "                     edge_color = \"skyblue\", # 엣지 색상\n",
    "                     alpha = 0.7, # 노드와 엣지의 투명도\n",
    "                     with_labels = True, # 노드 이름 표시 여부\n",
    "                     font_size=10, # 폰트 사이즈\n",
    "                     font_family='Malgun Gothic', # 한글설정\n",
    "                     arrowsize = 10) # 화살표 크기\n",
    "plt.rc('font', family='Malgun Gothic') # 폰트 문제\n",
    "plt.title('한양대 2018 경데베 교우 네트워크') # 그래프 제목\n",
    "plt.savefig('third_network.png') # 파일 저장"
   ]
  },
  {
   "cell_type": "markdown",
   "metadata": {},
   "source": [
    "## 6. 시사점"
   ]
  },
  {
   "cell_type": "code",
   "execution_count": null,
   "metadata": {},
   "outputs": [],
   "source": []
  }
 ],
 "metadata": {
  "kernelspec": {
   "display_name": "Python 3",
   "language": "python",
   "name": "python3"
  },
  "language_info": {
   "codemirror_mode": {
    "name": "ipython",
    "version": 3
   },
   "file_extension": ".py",
   "mimetype": "text/x-python",
   "name": "python",
   "nbconvert_exporter": "python",
   "pygments_lexer": "ipython3",
   "version": "3.6.4"
  }
 },
 "nbformat": 4,
 "nbformat_minor": 2
}
